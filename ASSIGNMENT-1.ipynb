{
 "cells": [
  {
   "cell_type": "markdown",
   "id": "67507474",
   "metadata": {},
   "source": [
    "# Q1) "
   ]
  },
  {
   "cell_type": "code",
   "execution_count": 1,
   "id": "25b55227",
   "metadata": {},
   "outputs": [
    {
     "data": {
      "text/plain": [
       "2401"
      ]
     },
     "execution_count": 1,
     "metadata": {},
     "output_type": "execute_result"
    }
   ],
   "source": [
    "a=7**4\n",
    "a"
   ]
  },
  {
   "cell_type": "markdown",
   "id": "abadc0e7",
   "metadata": {},
   "source": [
    "# Q2)"
   ]
  },
  {
   "cell_type": "code",
   "execution_count": 2,
   "id": "59771e5b",
   "metadata": {},
   "outputs": [
    {
     "name": "stdout",
     "output_type": "stream",
     "text": [
      "['Hi', 'there', 'Sam!']\n"
     ]
    }
   ],
   "source": [
    "A=\"Hi there Sam!\"\n",
    "l=A.split(\" \")\n",
    "print(l)"
   ]
  },
  {
   "cell_type": "markdown",
   "id": "052e6b79",
   "metadata": {},
   "source": [
    "# Q3)"
   ]
  },
  {
   "cell_type": "code",
   "execution_count": 3,
   "id": "7f1ce08a",
   "metadata": {},
   "outputs": [
    {
     "name": "stdout",
     "output_type": "stream",
     "text": [
      "The diameter of Earth is 12742\n"
     ]
    }
   ],
   "source": [
    "print(\"The diameter of {planet} is {diameter}\".format(planet=\"Earth\",diameter=12742))"
   ]
  },
  {
   "cell_type": "markdown",
   "id": "8457a0b6",
   "metadata": {},
   "source": [
    "# Q4)"
   ]
  },
  {
   "cell_type": "code",
   "execution_count": 4,
   "id": "87ba6e8e",
   "metadata": {},
   "outputs": [
    {
     "name": "stdout",
     "output_type": "stream",
     "text": [
      "['hello']\n"
     ]
    }
   ],
   "source": [
    "l=[1,2,[3,4],[5,[100,200,['hello']],23,11],1,7]\n",
    "print(l[3][1][2])"
   ]
  },
  {
   "cell_type": "markdown",
   "id": "044e22b2",
   "metadata": {},
   "source": [
    "# Q5)"
   ]
  },
  {
   "cell_type": "code",
   "execution_count": 5,
   "id": "4185c97b",
   "metadata": {},
   "outputs": [
    {
     "data": {
      "text/plain": [
       "'hello'"
      ]
     },
     "execution_count": 5,
     "metadata": {},
     "output_type": "execute_result"
    }
   ],
   "source": [
    "d={'k1':[1,2,3,{'tricky':['oh','man','inception',{'target':[1,2,3,'hello']}]}]}\n",
    "d['k1'][3]['tricky'][3]['target'][3]         "
   ]
  },
  {
   "cell_type": "markdown",
   "id": "b74949c4",
   "metadata": {},
   "source": [
    "# Q6)\n",
    "Lists are mutable where as tuples are immutable\n",
    "tuples are memory efficient and lists are not\n"
   ]
  },
  {
   "cell_type": "markdown",
   "id": "143b9377",
   "metadata": {},
   "source": [
    "# Q7)"
   ]
  },
  {
   "cell_type": "code",
   "execution_count": 6,
   "id": "3fa3f75b",
   "metadata": {},
   "outputs": [
    {
     "name": "stdout",
     "output_type": "stream",
     "text": [
      "domain.com\n"
     ]
    }
   ],
   "source": [
    "def user(s):\n",
    "    m=s.find('@')\n",
    "    return (s[m+1:])\n",
    "\n",
    "s=\"user@domain.com\"\n",
    "if __name__ == \"__main__\":\n",
    "    print(user(s))"
   ]
  },
  {
   "cell_type": "markdown",
   "id": "09ed022d",
   "metadata": {},
   "source": [
    "# Q8)"
   ]
  },
  {
   "cell_type": "code",
   "execution_count": 9,
   "id": "7bcdd2f3",
   "metadata": {},
   "outputs": [
    {
     "name": "stdout",
     "output_type": "stream",
     "text": [
      "True\n"
     ]
    }
   ],
   "source": [
    "def ifdog(s):\n",
    "    if \"dog\" in s:\n",
    "        return True\n",
    "    else:\n",
    "        return False\n",
    "if __name__ == \"__main__\":\n",
    "    \n",
    "    print(ifdog(\"doggyracerrrr\"))"
   ]
  },
  {
   "cell_type": "markdown",
   "id": "a140d2e6",
   "metadata": {},
   "source": [
    "# Q9)"
   ]
  },
  {
   "cell_type": "code",
   "execution_count": 13,
   "id": "0f848c72",
   "metadata": {},
   "outputs": [
    {
     "name": "stdout",
     "output_type": "stream",
     "text": [
      "['dog', 'cat', 'great']\n",
      "['dog', 'cat', 'great']\n"
     ]
    }
   ],
   "source": [
    "seq=['soup','dog','salad','cat','great']\n",
    "l=[]\n",
    "m=[]\n",
    "for chars in seq:\n",
    "    if(chars[0]!='s'):\n",
    "        l.append(chars)\n",
    "        \n",
    "for i in range(len(seq)):\n",
    "    if(seq[i][0]!='s'):\n",
    "        m.append(seq[i])\n",
    "        \n",
    "        \n",
    "            \n",
    "print(m)\n",
    "print(l)            "
   ]
  },
  {
   "cell_type": "markdown",
   "id": "ac940a8b",
   "metadata": {},
   "source": [
    "# Q10)"
   ]
  },
  {
   "cell_type": "code",
   "execution_count": 19,
   "id": "dc80acf6",
   "metadata": {},
   "outputs": [
    {
     "name": "stdout",
     "output_type": "stream",
     "text": [
      "Small Ticket\n"
     ]
    }
   ],
   "source": [
    "def speed(n,l):\n",
    "    if(l):\n",
    "        if(n-5<=60):\n",
    "            return \"No Ticket\"\n",
    "        elif(61<n-5<80):\n",
    "            return \"Small Ticket\"\n",
    "        else:\n",
    "            return \"Big Ticket\"\n",
    "        \n",
    "    \n",
    "    \n",
    "    else:\n",
    "        \n",
    "        \n",
    "        if n<=60:\n",
    "            return \"No Ticket\"\n",
    "        elif n>=61 and n<=80:\n",
    "            return \"Small Ticket\"\n",
    "        elif n>=81:\n",
    "            return \"Big Ticket\"\n",
    "if __name__ == \"__main__\":\n",
    "    \n",
    "    print(speed(83,True))\n",
    "    "
   ]
  },
  {
   "cell_type": "code",
   "execution_count": null,
   "id": "b0ae3d96",
   "metadata": {},
   "outputs": [],
   "source": []
  }
 ],
 "metadata": {
  "kernelspec": {
   "display_name": "Python 3 (ipykernel)",
   "language": "python",
   "name": "python3"
  },
  "language_info": {
   "codemirror_mode": {
    "name": "ipython",
    "version": 3
   },
   "file_extension": ".py",
   "mimetype": "text/x-python",
   "name": "python",
   "nbconvert_exporter": "python",
   "pygments_lexer": "ipython3",
   "version": "3.9.7"
  }
 },
 "nbformat": 4,
 "nbformat_minor": 5
}
